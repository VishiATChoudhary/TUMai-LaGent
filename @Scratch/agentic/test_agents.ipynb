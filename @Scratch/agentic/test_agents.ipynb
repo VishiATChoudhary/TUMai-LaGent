{
 "cells": [
  {
   "cell_type": "code",
   "execution_count": 1,
   "metadata": {},
   "outputs": [],
   "source": [
    "from mistralai.models.chat_completion import ChatMessage\n",
    "from mistralai.client import MistralClient\n",
    "\n",
    "#from langchain_mistralai import ChatMistralAI\n",
    "\n",
    "MISTRAL_API_KEY = \"OZSyUAoFi2DmsjJz5Cuqg8vWeFzG9grq\"  # Replace with your Mistral API key\n",
    "\n",
    "\n",
    "client = MistralClient(api_key=MISTRAL_API_KEY)\n",
    "model_id = \"mistral-small\""
   ]
  },
  {
   "cell_type": "code",
   "execution_count": 8,
   "metadata": {},
   "outputs": [
    {
     "name": "stdout",
     "output_type": "stream",
     "text": [
      "anthropic.claude-3-5-sonnet-20241022-v2:0:18k\n",
      "anthropic.claude-3-5-sonnet-20241022-v2:0:51k\n",
      "anthropic.claude-3-5-sonnet-20241022-v2:0:200k\n",
      "anthropic.claude-3-5-sonnet-20241022-v2:0\n",
      "anthropic.claude-3-7-sonnet-20250219-v1:0\n",
      "anthropic.claude-3-5-haiku-20241022-v1:0\n",
      "anthropic.claude-instant-v1:2:100k\n",
      "anthropic.claude-instant-v1\n",
      "anthropic.claude-v2:0:18k\n",
      "anthropic.claude-v2:0:100k\n",
      "anthropic.claude-v2:1:18k\n",
      "anthropic.claude-v2:1:200k\n",
      "anthropic.claude-v2:1\n",
      "anthropic.claude-v2\n",
      "anthropic.claude-3-sonnet-20240229-v1:0:28k\n",
      "anthropic.claude-3-sonnet-20240229-v1:0:200k\n",
      "anthropic.claude-3-sonnet-20240229-v1:0\n",
      "anthropic.claude-3-haiku-20240307-v1:0:48k\n",
      "anthropic.claude-3-haiku-20240307-v1:0:200k\n",
      "anthropic.claude-3-haiku-20240307-v1:0\n",
      "anthropic.claude-3-opus-20240229-v1:0:12k\n",
      "anthropic.claude-3-opus-20240229-v1:0:28k\n",
      "anthropic.claude-3-opus-20240229-v1:0:200k\n",
      "anthropic.claude-3-opus-20240229-v1:0\n",
      "anthropic.claude-3-5-sonnet-20240620-v1:0:18k\n",
      "anthropic.claude-3-5-sonnet-20240620-v1:0:51k\n",
      "anthropic.claude-3-5-sonnet-20240620-v1:0:200k\n",
      "anthropic.claude-3-5-sonnet-20240620-v1:0\n"
     ]
    }
   ],
   "source": [
    "import boto3\n",
    "\n",
    "bedrock = boto3.client(service_name=\"bedrock\")\n",
    "response = bedrock.list_foundation_models(byProvider=\"anthropic\")\n",
    "\n",
    "for summary in response[\"modelSummaries\"]:\n",
    "    print(summary[\"modelId\"])"
   ]
  },
  {
   "cell_type": "code",
   "execution_count": 12,
   "metadata": {},
   "outputs": [
    {
     "name": "stdout",
     "output_type": "stream",
     "text": [
      "The capital of France is Paris. It's located in the north-central part of the country and is one of the most popular tourist destinations in the world. Known for its iconic landmarks like the Eiffel Tower, Louvre Museum, Notre-Dame Cathedral, and Sacré-Cœur Basilica, Paris is also renowned for its fashion, art, cuisine, and culture. The city is divided into 20 arrondissements (municipal districts), each with its own distinctive character and charm. Paris is not only the capital of France but also serves as the commercial, cultural, and intellectual hub of the country.\n"
     ]
    }
   ],
   "source": [
    "messages = [\n",
    "    ChatMessage(role=\"user\", content=\"What is the capital of France?\")\n",
    "]\n",
    "\n",
    "chat_response = client.chat(\n",
    "    model=\"mistral-small\",\n",
    "    messages=messages\n",
    ")\n",
    "\n",
    "print(chat_response.choices[0].message.content)\n",
    "\n"
   ]
  }
 ],
 "metadata": {
  "kernelspec": {
   "display_name": "essec",
   "language": "python",
   "name": "python3"
  },
  "language_info": {
   "codemirror_mode": {
    "name": "ipython",
    "version": 3
   },
   "file_extension": ".py",
   "mimetype": "text/x-python",
   "name": "python",
   "nbconvert_exporter": "python",
   "pygments_lexer": "ipython3",
   "version": "3.12.9"
  }
 },
 "nbformat": 4,
 "nbformat_minor": 2
}
